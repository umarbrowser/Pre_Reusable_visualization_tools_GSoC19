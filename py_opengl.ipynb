{
 "cells": [
  {
   "cell_type": "code",
   "execution_count": 2,
   "metadata": {},
   "outputs": [
    {
     "ename": "NullFunctionError",
     "evalue": "Attempt to call an undefined function glutMainLoop, check for bool(glutMainLoop) before calling",
     "output_type": "error",
     "traceback": [
      "\u001b[0;31m---------------------------------------------------------------------------\u001b[0m",
      "\u001b[0;31mNullFunctionError\u001b[0m                         Traceback (most recent call last)",
      "\u001b[0;32m<ipython-input-2-ac4cd91c9c61>\u001b[0m in \u001b[0;36m<module>\u001b[0;34m()\u001b[0m\n\u001b[1;32m      7\u001b[0m \u001b[0mglut\u001b[0m\u001b[0;34m.\u001b[0m\u001b[0mglutInit\u001b[0m\u001b[0;34m(\u001b[0m\u001b[0;34m)\u001b[0m\u001b[0;34m\u001b[0m\u001b[0m\n\u001b[1;32m      8\u001b[0m \u001b[0;34m\u001b[0m\u001b[0m\n\u001b[0;32m----> 9\u001b[0;31m \u001b[0mglut\u001b[0m\u001b[0;34m.\u001b[0m\u001b[0mglutMainLoop\u001b[0m\u001b[0;34m(\u001b[0m\u001b[0;34m)\u001b[0m\u001b[0;34m\u001b[0m\u001b[0m\n\u001b[0m",
      "\u001b[0;32m/home/pyc0d3r/miniconda2/lib/python2.7/site-packages/OpenGL/platform/baseplatform.pyc\u001b[0m in \u001b[0;36m__call__\u001b[0;34m(self, *args, **named)\u001b[0m\n\u001b[1;32m    405\u001b[0m             raise error.NullFunctionError(\n\u001b[1;32m    406\u001b[0m                 \"\"\"Attempt to call an undefined function %s, check for bool(%s) before calling\"\"\"%(\n\u001b[0;32m--> 407\u001b[0;31m                     \u001b[0mself\u001b[0m\u001b[0;34m.\u001b[0m\u001b[0m__name__\u001b[0m\u001b[0;34m,\u001b[0m \u001b[0mself\u001b[0m\u001b[0;34m.\u001b[0m\u001b[0m__name__\u001b[0m\u001b[0;34m,\u001b[0m\u001b[0;34m\u001b[0m\u001b[0m\n\u001b[0m\u001b[1;32m    408\u001b[0m                 )\n\u001b[1;32m    409\u001b[0m             )\n",
      "\u001b[0;31mNullFunctionError\u001b[0m: Attempt to call an undefined function glutMainLoop, check for bool(glutMainLoop) before calling"
     ]
    }
   ],
   "source": [
    "import sys\n",
    "import OpenGL.GL as gl\n",
    "import OpenGL.GLUT as glut\n",
    "\n",
    "\n",
    "\n",
    "glut.glutInit()\n",
    "\n",
    "glut.glutMainLoop()"
   ]
  }
 ],
 "metadata": {
  "kernelspec": {
   "display_name": "Python 2",
   "language": "python",
   "name": "python2"
  },
  "language_info": {
   "codemirror_mode": {
    "name": "ipython",
    "version": 2
   },
   "file_extension": ".py",
   "mimetype": "text/x-python",
   "name": "python",
   "nbconvert_exporter": "python",
   "pygments_lexer": "ipython2",
   "version": "2.7.15"
  }
 },
 "nbformat": 4,
 "nbformat_minor": 2
}
